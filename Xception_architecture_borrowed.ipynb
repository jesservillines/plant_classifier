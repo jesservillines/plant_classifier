{
 "cells": [
  {
   "cell_type": "code",
   "execution_count": null,
   "id": "greater-statistics",
   "metadata": {},
   "outputs": [],
   "source": [
    "#https://towardsdatascience.com/xception-from-scratch-using-tensorflow-even-better-than-inception-940fb231ced9"
   ]
  },
  {
   "cell_type": "code",
   "execution_count": null,
   "id": "directed-silver",
   "metadata": {},
   "outputs": [],
   "source": [
    "#import necessary libraries\n",
    "\n",
    "import tensorflow as tf\n",
    "from tensorflow.keras.layers import Input,Dense,Conv2D,Add\n",
    "from tensorflow.keras.layers import SeparableConv2D,ReLU\n",
    "from tensorflow.keras.layers import BatchNormalization,MaxPool2D\n",
    "from tensorflow.keras.layers import GlobalAvgPool2D\n",
    "from tensorflow.keras import Model"
   ]
  },
  {
   "cell_type": "code",
   "execution_count": 2,
   "id": "humanitarian-curtis",
   "metadata": {},
   "outputs": [],
   "source": [
    "# creating the Conv-Batch Norm block\n",
    "\n",
    "def conv_bn(x, filters, kernel_size, strides=1):\n",
    "    \n",
    "    x = Conv2D(filters=filters, \n",
    "               kernel_size = kernel_size, \n",
    "               strides=strides, \n",
    "               padding = 'same', \n",
    "               use_bias = False)(x)\n",
    "    x = BatchNormalization()(x)\n",
    "    return x\n",
    "# creating separableConv-Batch Norm block\n",
    "\n",
    "def sep_bn(x, filters, kernel_size, strides=1):\n",
    "    \n",
    "    x = SeparableConv2D(filters=filters, \n",
    "                        kernel_size = kernel_size, \n",
    "                        strides=strides, \n",
    "                        padding = 'same', \n",
    "                        use_bias = False)(x)\n",
    "    x = BatchNormalization()(x)\n",
    "    return x\n",
    "# entry flow\n",
    "\n",
    "def entry_flow(x):\n",
    "    \n",
    "    x = conv_bn(x, filters =32, kernel_size =3, strides=2)\n",
    "    x = ReLU()(x)\n",
    "    x = conv_bn(x, filters =64, kernel_size =3, strides=1)\n",
    "    tensor = ReLU()(x)\n",
    "    \n",
    "    x = sep_bn(tensor, filters = 128, kernel_size =3)\n",
    "    x = ReLU()(x)\n",
    "    x = sep_bn(x, filters = 128, kernel_size =3)\n",
    "    x = MaxPool2D(pool_size=3, strides=2, padding = 'same')(x)\n",
    "    \n",
    "    tensor = conv_bn(tensor, filters=128, kernel_size = 1,strides=2)\n",
    "    x = Add()([tensor,x])\n",
    "    \n",
    "    x = ReLU()(x)\n",
    "    x = sep_bn(x, filters =256, kernel_size=3)\n",
    "    x = ReLU()(x)\n",
    "    x = sep_bn(x, filters =256, kernel_size=3)\n",
    "    x = MaxPool2D(pool_size=3, strides=2, padding = 'same')(x)\n",
    "    \n",
    "    tensor = conv_bn(tensor, filters=256, kernel_size = 1,strides=2)\n",
    "    x = Add()([tensor,x])\n",
    "    \n",
    "    x = ReLU()(x)\n",
    "    x = sep_bn(x, filters =728, kernel_size=3)\n",
    "    x = ReLU()(x)\n",
    "    x = sep_bn(x, filters =728, kernel_size=3)\n",
    "    x = MaxPool2D(pool_size=3, strides=2, padding = 'same')(x)\n",
    "    \n",
    "    tensor = conv_bn(tensor, filters=728, kernel_size = 1,strides=2)\n",
    "    x = Add()([tensor,x])\n",
    "    return x\n",
    "# middle flow\n",
    "\n",
    "def middle_flow(tensor):\n",
    "    \n",
    "    for _ in range(8):\n",
    "        x = ReLU()(tensor)\n",
    "        x = sep_bn(x, filters = 728, kernel_size = 3)\n",
    "        x = ReLU()(x)\n",
    "        x = sep_bn(x, filters = 728, kernel_size = 3)\n",
    "        x = ReLU()(x)\n",
    "        x = sep_bn(x, filters = 728, kernel_size = 3)\n",
    "        x = ReLU()(x)\n",
    "        tensor = Add()([tensor,x])\n",
    "        \n",
    "    return tensor\n",
    "# exit flow\n",
    "\n",
    "def exit_flow(tensor):\n",
    "    \n",
    "    x = ReLU()(tensor)\n",
    "    x = sep_bn(x, filters = 728,  kernel_size=3)\n",
    "    x = ReLU()(x)\n",
    "    x = sep_bn(x, filters = 1024,  kernel_size=3)\n",
    "    x = MaxPool2D(pool_size = 3, strides = 2, padding ='same')(x)\n",
    "    \n",
    "    tensor = conv_bn(tensor, filters =1024, kernel_size=1, strides =2)\n",
    "    x = Add()([tensor,x])\n",
    "    \n",
    "    x = sep_bn(x, filters = 1536,  kernel_size=3)\n",
    "    x = ReLU()(x)\n",
    "    x = sep_bn(x, filters = 2048,  kernel_size=3)\n",
    "    x = GlobalAvgPool2D()(x)\n",
    "    \n",
    "    x = Dense (units = 1000, activation = 'softmax')(x)\n",
    "    \n",
    "    return x"
   ]
  },
  {
   "cell_type": "code",
   "execution_count": null,
   "id": "attached-peoples",
   "metadata": {},
   "outputs": [],
   "source": []
  },
  {
   "cell_type": "code",
   "execution_count": 3,
   "id": "analyzed-craps",
   "metadata": {},
   "outputs": [
    {
     "ename": "NameError",
     "evalue": "name 'Input' is not defined",
     "output_type": "error",
     "traceback": [
      "\u001b[1;31m---------------------------------------------------------------------------\u001b[0m",
      "\u001b[1;31mNameError\u001b[0m                                 Traceback (most recent call last)",
      "\u001b[1;32m<ipython-input-3-7c2698c9fc70>\u001b[0m in \u001b[0;36m<module>\u001b[1;34m\u001b[0m\n\u001b[0;32m      1\u001b[0m \u001b[1;31m# model code\u001b[0m\u001b[1;33m\u001b[0m\u001b[1;33m\u001b[0m\u001b[1;33m\u001b[0m\u001b[0m\n\u001b[1;32m----> 2\u001b[1;33m \u001b[0minput\u001b[0m \u001b[1;33m=\u001b[0m \u001b[0mInput\u001b[0m\u001b[1;33m(\u001b[0m\u001b[0mshape\u001b[0m \u001b[1;33m=\u001b[0m \u001b[1;33m(\u001b[0m\u001b[1;36m299\u001b[0m\u001b[1;33m,\u001b[0m\u001b[1;36m299\u001b[0m\u001b[1;33m,\u001b[0m\u001b[1;36m3\u001b[0m\u001b[1;33m)\u001b[0m\u001b[1;33m)\u001b[0m\u001b[1;33m\u001b[0m\u001b[1;33m\u001b[0m\u001b[0m\n\u001b[0m\u001b[0;32m      3\u001b[0m \u001b[0mx\u001b[0m \u001b[1;33m=\u001b[0m \u001b[0mentry_flow\u001b[0m\u001b[1;33m(\u001b[0m\u001b[0minput\u001b[0m\u001b[1;33m)\u001b[0m\u001b[1;33m\u001b[0m\u001b[1;33m\u001b[0m\u001b[0m\n\u001b[0;32m      4\u001b[0m \u001b[0mx\u001b[0m \u001b[1;33m=\u001b[0m \u001b[0mmiddle_flow\u001b[0m\u001b[1;33m(\u001b[0m\u001b[0mx\u001b[0m\u001b[1;33m)\u001b[0m\u001b[1;33m\u001b[0m\u001b[1;33m\u001b[0m\u001b[0m\n\u001b[0;32m      5\u001b[0m \u001b[0moutput\u001b[0m \u001b[1;33m=\u001b[0m \u001b[0mexit_flow\u001b[0m\u001b[1;33m(\u001b[0m\u001b[0mx\u001b[0m\u001b[1;33m)\u001b[0m\u001b[1;33m\u001b[0m\u001b[1;33m\u001b[0m\u001b[0m\n",
      "\u001b[1;31mNameError\u001b[0m: name 'Input' is not defined"
     ]
    }
   ],
   "source": [
    "# model code\n",
    "input = Input(shape = (299,299,3))\n",
    "x = entry_flow(input)\n",
    "x = middle_flow(x)\n",
    "output = exit_flow(x)\n",
    "\n",
    "model = Model (inputs=input, outputs=output)\n",
    "model.summary()"
   ]
  },
  {
   "cell_type": "code",
   "execution_count": null,
   "id": "african-kentucky",
   "metadata": {},
   "outputs": [],
   "source": []
  }
 ],
 "metadata": {
  "kernelspec": {
   "display_name": "Python 3",
   "language": "python",
   "name": "python3"
  },
  "language_info": {
   "codemirror_mode": {
    "name": "ipython",
    "version": 3
   },
   "file_extension": ".py",
   "mimetype": "text/x-python",
   "name": "python",
   "nbconvert_exporter": "python",
   "pygments_lexer": "ipython3",
   "version": "3.8.5"
  }
 },
 "nbformat": 4,
 "nbformat_minor": 5
}
