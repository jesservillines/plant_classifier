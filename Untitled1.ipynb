{
 "cells": [
  {
   "cell_type": "code",
   "execution_count": 2,
   "id": "quarterly-kentucky",
   "metadata": {},
   "outputs": [],
   "source": [
    "import tensorflow as tf\n",
    "from keras.layers import Dense,GlobalAveragePooling2D,Dropout\n",
    "from keras.models import Model\n",
    "from keras.preprocessing.image import ImageDataGenerator\n",
    "from keras.applications.mobilenet import preprocess_input"
   ]
  },
  {
   "cell_type": "code",
   "execution_count": 3,
   "id": "photographic-arizona",
   "metadata": {},
   "outputs": [],
   "source": [
    "base_model=tf.keras.applications.MobileNetV2(weights='imagenet',\n",
    "                                             include_top=False,\n",
    "                                            input_shape=(224,224,3)) #imports the mobilenet model and discards the last 1000 neuron layer.\n",
    "\n",
    "x=base_model.output\n",
    "x=GlobalAveragePooling2D()(x)\n",
    "x= Dropout(0.2)(x)  \n",
    "x=Dense(1024,activation='relu')(x) #we add dense layers so that the model can learn more complex functions and classify for better results.\n",
    "x= Dropout(0.2)(x)  \n",
    "x=Dense(1024,activation='relu')(x) #dense layer 2\n",
    "x= Dropout(0.1)(x)  \n",
    "x=Dense(512,activation='relu')(x) #dense layer 3\n",
    "preds=Dense(37,activation='softmax')(x) #final layer with softmax activation"
   ]
  },
  {
   "cell_type": "code",
   "execution_count": 4,
   "id": "wireless-poetry",
   "metadata": {},
   "outputs": [],
   "source": [
    "model=Model(inputs=base_model.input,outputs=preds)"
   ]
  },
  {
   "cell_type": "code",
   "execution_count": 5,
   "id": "unsigned-british",
   "metadata": {},
   "outputs": [],
   "source": [
    "classes = ['Apple___Black_rot', 'Apple___Cedar_apple_rust', 'Apple___healthy', 'Blueberry___healthy', 'Cherry___Powdery_mildew', 'Cherry___healthy', 'Corn___Cercospora_leaf_spot Gray_leaf_spot', 'Corn___Common_rust_', 'Corn___Northern_Leaf_Blight', 'Corn___healthy', 'Grape___Black_rot', 'Grape___Esca', 'Grape___Leaf_blight', 'Grape___healthy', 'Orange___Haunglongbing', 'Peach___Bacterial_spot', 'Peach___healthy', 'Pepperbell___Bacterial_spot', 'Pepperbell___healthy', 'Potato___Early_blight', 'Potato___Late_blight', 'Potato___healthy', 'Raspberry___healthy', 'Soybean___healthy', 'Squash___Powdery_mildew', 'Strawberry___Leaf_scorch', 'Strawberry___healthy', 'Tomato___Bacterial_spot', 'Tomato___Early_blight', 'Tomato___Late_blight', 'Tomato___Leaf_Mold', 'Tomato___Septoria_leaf_spot', 'Tomato___Spider_mites Two-spotted_spider_mite', 'Tomato___Target_Spot', 'Tomato___Tomato_Yellow_Leaf_Curl_Virus', 'Tomato___Tomato_mosaic_virus', 'Tomato___healthy']"
   ]
  },
  {
   "cell_type": "code",
   "execution_count": 7,
   "id": "present-liechtenstein",
   "metadata": {},
   "outputs": [
    {
     "name": "stdout",
     "output_type": "stream",
     "text": [
      "Found 69079 images belonging to 37 classes.\n"
     ]
    }
   ],
   "source": [
    "train_datagen=ImageDataGenerator(preprocessing_function=preprocess_input) #included in our dependencies\n",
    "\n",
    "train_generator=train_datagen.flow_from_directory('./dataset/train',\n",
    "                                                 target_size=(224,224),\n",
    "                                                 color_mode='rgb',\n",
    "                                                 batch_size=100,\n",
    "                                                  classes=classes,\n",
    "                                                 class_mode='categorical',\n",
    "                                                 shuffle=True)"
   ]
  },
  {
   "cell_type": "code",
   "execution_count": 8,
   "id": "answering-packet",
   "metadata": {},
   "outputs": [
    {
     "data": {
      "text/plain": [
       "array([ 0,  0,  0, ..., 36, 36, 36])"
      ]
     },
     "execution_count": 8,
     "metadata": {},
     "output_type": "execute_result"
    }
   ],
   "source": [
    "train_generator.classes"
   ]
  },
  {
   "cell_type": "code",
   "execution_count": 15,
   "id": "selected-taste",
   "metadata": {},
   "outputs": [
    {
     "data": {
      "text/plain": [
       "{'Apple___Black_rot': 0,\n",
       " 'Apple___Cedar_apple_rust': 1,\n",
       " 'Apple___healthy': 2,\n",
       " 'Blueberry___healthy': 3,\n",
       " 'Cherry___Powdery_mildew': 4,\n",
       " 'Cherry___healthy': 5,\n",
       " 'Corn___Cercospora_leaf_spot Gray_leaf_spot': 6,\n",
       " 'Corn___Common_rust_': 7,\n",
       " 'Corn___Northern_Leaf_Blight': 8,\n",
       " 'Corn___healthy': 9,\n",
       " 'Grape___Black_rot': 10,\n",
       " 'Grape___Esca': 11,\n",
       " 'Grape___Leaf_blight': 12,\n",
       " 'Grape___healthy': 13,\n",
       " 'Orange___Haunglongbing': 14,\n",
       " 'Peach___Bacterial_spot': 15,\n",
       " 'Peach___healthy': 16,\n",
       " 'Pepperbell___Bacterial_spot': 17,\n",
       " 'Pepperbell___healthy': 18,\n",
       " 'Potato___Early_blight': 19,\n",
       " 'Potato___Late_blight': 20,\n",
       " 'Potato___healthy': 21,\n",
       " 'Raspberry___healthy': 22,\n",
       " 'Soybean___healthy': 23,\n",
       " 'Squash___Powdery_mildew': 24,\n",
       " 'Strawberry___Leaf_scorch': 25,\n",
       " 'Strawberry___healthy': 26,\n",
       " 'Tomato___Bacterial_spot': 27,\n",
       " 'Tomato___Early_blight': 28,\n",
       " 'Tomato___Late_blight': 29,\n",
       " 'Tomato___Leaf_Mold': 30,\n",
       " 'Tomato___Septoria_leaf_spot': 31,\n",
       " 'Tomato___Spider_mites Two-spotted_spider_mite': 32,\n",
       " 'Tomato___Target_Spot': 33,\n",
       " 'Tomato___Tomato_Yellow_Leaf_Curl_Virus': 34,\n",
       " 'Tomato___Tomato_mosaic_virus': 35,\n",
       " 'Tomato___healthy': 36}"
      ]
     },
     "execution_count": 15,
     "metadata": {},
     "output_type": "execute_result"
    }
   ],
   "source": [
    "train_generator.class_indices"
   ]
  },
  {
   "cell_type": "code",
   "execution_count": 13,
   "id": "detected-heath",
   "metadata": {},
   "outputs": [
    {
     "data": {
      "text/plain": [
       "11"
      ]
     },
     "execution_count": 13,
     "metadata": {},
     "output_type": "execute_result"
    }
   ],
   "source": [
    "len(c)"
   ]
  },
  {
   "cell_type": "code",
   "execution_count": null,
   "id": "breathing-bookmark",
   "metadata": {},
   "outputs": [],
   "source": []
  }
 ],
 "metadata": {
  "kernelspec": {
   "display_name": "Python 3",
   "language": "python",
   "name": "python3"
  },
  "language_info": {
   "codemirror_mode": {
    "name": "ipython",
    "version": 3
   },
   "file_extension": ".py",
   "mimetype": "text/x-python",
   "name": "python",
   "nbconvert_exporter": "python",
   "pygments_lexer": "ipython3",
   "version": "3.8.5"
  }
 },
 "nbformat": 4,
 "nbformat_minor": 5
}
