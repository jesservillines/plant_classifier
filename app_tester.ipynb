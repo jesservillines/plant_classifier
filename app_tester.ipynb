{
 "cells": [
  {
   "cell_type": "code",
   "execution_count": 2,
   "id": "royal-convergence",
   "metadata": {},
   "outputs": [],
   "source": [
    "import numpy as np\n",
    "from tensorflow.keras.models import load_model\n",
    "from tensorflow.keras.preprocessing.image import load_img, img_to_array\n",
    "import sys\n",
    "sys.setrecursionlimit(10000)"
   ]
  },
  {
   "cell_type": "code",
   "execution_count": 4,
   "id": "informed-injury",
   "metadata": {},
   "outputs": [
    {
     "name": "stdout",
     "output_type": "stream",
     "text": [
      "Classification is : Tomato___Early_blight\n"
     ]
    },
    {
     "data": {
      "text/plain": [
       "10000"
      ]
     },
     "execution_count": 4,
     "metadata": {},
     "output_type": "execute_result"
    }
   ],
   "source": [
    "healthType = ['Apple___Apple_scab',\n",
    " 'Apple___Black_rot',\n",
    " 'Apple___Cedar_apple_rust',\n",
    " 'Apple___healthy',\n",
    " 'Blueberry___healthy',\n",
    " 'Cherry___Powdery_mildew',\n",
    " 'Cherry___healthy',\n",
    " 'Corn___Cercospora_leaf_spot Gray_leaf_spot',\n",
    " 'Corn___Common_rust_',\n",
    " 'Corn___Northern_Leaf_Blight',\n",
    " 'Corn___healthy',\n",
    " 'Grape___Black_rot',\n",
    " 'Grape___Esca_',\n",
    " 'Grape___Leaf_blight_)',\n",
    " 'Grape___healthy',\n",
    " 'Orange___Haunglongbing_',\n",
    " 'Peach___Bacterial_spot',\n",
    " 'Peach___healthy',\n",
    " 'Pepper,_bell___Bacterial_spot',\n",
    " 'Pepper,_bell___healthy',\n",
    " 'Potato___Early_blight',\n",
    " 'Potato___Late_blight',\n",
    " 'Potato___healthy',\n",
    " 'Raspberry___healthy',\n",
    " 'Soybean___healthy',\n",
    " 'Squash___Powdery_mildew',\n",
    " 'Strawberry___Leaf_scorch',\n",
    " 'Strawberry___healthy',\n",
    " 'Tomato___Bacterial_spot',\n",
    " 'Tomato___Early_blight',\n",
    " 'Tomato___Late_blight',\n",
    " 'Tomato___Leaf_Mold',\n",
    " 'Tomato___Septoria_leaf_spot',\n",
    " 'Tomato___Spider_mites Two-spotted_spider_mite',\n",
    " 'Tomato___Target_Spot',\n",
    " 'Tomato___Tomato_Yellow_Leaf_Curl_Virus',\n",
    " 'Tomato___Tomato_mosaic_virus',\n",
    " 'Tomato___healthy']\n",
    "\n",
    "leaf_model = load_model('./model/model.h5')\n",
    "\n",
    "image_path = \"./dataset/train/Apple___Black_rot/0090d05d-d797-4c99-abd4-3b9cb323a5fd___JR_FrgE.S 8727_270deg.JPG\"\n",
    "\n",
    "image = load_img(image_path,target_size=(250,250))\n",
    "image = img_to_array(image)\n",
    "image = image/255\n",
    "image = np.expand_dims(image,axis=0)\n",
    "\n",
    "result = np.argmax(leaf_model.predict(image))\n",
    "print(\"Classification is :\", healthType[result])\n",
    "\n",
    "\n",
    "import sys\n",
    "sys.getrecursionlimit()"
   ]
  },
  {
   "cell_type": "code",
   "execution_count": null,
   "id": "environmental-developer",
   "metadata": {},
   "outputs": [],
   "source": [
    "    if uploaded_file is not None:\n",
    "        #image = load_img(image_path,target_size=(250,250))\n",
    "        image = img_to_array(uploaded_file)\n",
    "        image = image/255\n",
    "        image = np.expand_dims(image,axis=0)\n",
    "        result = np.argmax(model.predict(image))\n",
    "        pred = healthType[result]\n",
    "        st.header(\"The state of your leaf is - \"+ pred )\n",
    "        st.subheader(\"The suggested recovery plan for \"+ pred + \" is: \"+ suggestions[pred])\n"
   ]
  }
 ],
 "metadata": {
  "kernelspec": {
   "display_name": "Python 3",
   "language": "python",
   "name": "python3"
  },
  "language_info": {
   "codemirror_mode": {
    "name": "ipython",
    "version": 3
   },
   "file_extension": ".py",
   "mimetype": "text/x-python",
   "name": "python",
   "nbconvert_exporter": "python",
   "pygments_lexer": "ipython3",
   "version": "3.8.5"
  }
 },
 "nbformat": 4,
 "nbformat_minor": 5
}
